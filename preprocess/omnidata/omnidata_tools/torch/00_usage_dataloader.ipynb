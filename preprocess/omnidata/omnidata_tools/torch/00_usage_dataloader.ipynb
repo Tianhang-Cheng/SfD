{
 "cells": [
  {
   "cell_type": "code",
   "execution_count": null,
   "id": "a6033b00-4b76-4dba-86b2-74446815e9f8",
   "metadata": {},
   "outputs": [],
   "source": [
    "%matplotlib inline\n",
    "import os, sys; sys.path.append(os.path.expanduser(os.getcwd()))\n",
    "from dataloader.pytorch_lightning_datamodule import OmnidataDataModule\n",
    "\n",
    "# You can install the libs with a clean Conda install using:\n",
    "# conda create -n omnidata python=3.8\n",
    "# conda install pytorch=1.12.0 torchvision torchaudio pytorch-cuda=11.6 -c pytorch -c nvidia\n",
    "# conda install -c fvcore -c iopath -c conda-forge fvcore iopath\n",
    "# conda install pytorch3d -c pytorch3d\n",
    "# conda install plotly fastcore\n"
   ]
  },
  {
   "cell_type": "markdown",
   "id": "bc06b0e8-bfa5-4d8d-8fa9-3fcbcc0d12ab",
   "metadata": {},
   "source": [
    "# Multiview (all views fixated on same point)"
   ]
  },
  {
   "cell_type": "code",
   "execution_count": null,
   "id": "ea5e4415-76d6-41b4-a668-97031e2ea676",
   "metadata": {},
   "outputs": [],
   "source": [
    "os.environ['OMNIDATA_PATH'] = '/scratch/data/omnidata'\n",
    "os.environ['OMNIDATA_CACHE_PATH'] = '/scratch/data/omnidata/.cache'\n",
    "\n",
    "dm = OmnidataDataModule(\n",
    "       tasks = ['point_info', 'rgb', 'depth_euclidean', 'normal', 'mask_valid'],\n",
    "      train_datasets_to_options = dict(\n",
    "            # TaskonomyDataset = dict(data_amount='tiny', data_path='/datasets/omnidata/ta/'),\n",
    "            ReplicaDataset   = dict()\n",
    "        ),\n",
    "        eval_datasets_to_options  = dict(\n",
    "            # HypersimDataset   = dict(cooccurrence_method='FRAGMENTS')\n",
    "            ReplicaDataset   = dict()\n",
    "            # GSOReplicaDataset   = dict()\n",
    "            # TaskonomyDataset  = dict(data_amount='tiny')\n",
    "        ),\n",
    "        shared_options = dict(\n",
    "            data_amount  = 'debug',\n",
    "            data_path    = os.environ['OMNIDATA_PATH'],\n",
    "            cache_dir    = os.environ['OMNIDATA_CACHE_PATH'],\n",
    "            image_size   = 512,\n",
    "            multiview_sampling_method = 'FILENAME', # Works for Taskonomy, Replica\n",
    "            n_workers    = None,\n",
    "            # force_refresh_tmp = True,\n",
    "            num_positive = 3,\n",
    "        ),\n",
    "        train_options  = dict(),\n",
    "        eval_options   = dict(),\n",
    "        dataloader_kwargs = dict(batch_size=4),\n",
    ")\n",
    "dm.setup(stage='val')\n"
   ]
  },
  {
   "cell_type": "code",
   "execution_count": null,
   "id": "1e275a3e-18be-43ef-a0ef-84afe912c7f7",
   "metadata": {},
   "outputs": [],
   "source": [
    "# Load a batch (3 views fixated on the same point)\n",
    "dl = dm.val_dataloader()[0]\n",
    "for batch in dl:\n",
    "    batch = batch['positive']\n",
    "    break"
   ]
  },
  {
   "cell_type": "markdown",
   "id": "aa710100-8d87-407c-898e-9b8bc66af4d2",
   "metadata": {},
   "source": [
    "### Visualization"
   ]
  },
  {
   "cell_type": "code",
   "execution_count": null,
   "id": "68ad9b55-c3a8-46c9-94e5-0e0fe1833181",
   "metadata": {},
   "outputs": [],
   "source": [
    "from dataloader.pytorch3d_utils import *\n",
    "from dataloader.viz_utils import *\n",
    "\n",
    "# Show the RGB image\n",
    "show_batch_images(batch, batch_idx=0, view_idxs=[0,1,2], keys=['rgb'])\n"
   ]
  },
  {
   "cell_type": "code",
   "execution_count": null,
   "id": "03ef4984-055a-4251-9454-7184f469e6ff",
   "metadata": {},
   "outputs": [],
   "source": [
    "# Show all unprojected pointclouds in the same scene, and draw wireframes for the cameras\n",
    "show_batch_scene(batch, batch_idx=0, view_idxs=[0,1,2])\n"
   ]
  },
  {
   "cell_type": "markdown",
   "id": "403af49e-13cf-44b7-a955-95873ff9b3bb",
   "metadata": {},
   "source": [
    "# Multiview (nonfixated, but overlapping)"
   ]
  },
  {
   "cell_type": "code",
   "execution_count": null,
   "id": "e55d3005-e581-49a1-aeb3-92cec15c379c",
   "metadata": {},
   "outputs": [],
   "source": [
    "# You may need to download the scene structs\n",
    "# Put them in the same folder as the rest of the Omnidata dataset\n",
    "# So it should be like:\n",
    "# path_to_omnidata/\n",
    "#   point_info/\n",
    "#   rgb/\n",
    "#   ...\n",
    "#   scene_metadata/\n",
    "#   scene_multiview_metadata/\n",
    "# It will work for Taskonomy, Replica, Hypersim, and GSO-in-Replica\n",
    "# How to download:\n",
    "# pip install gdown\n",
    "# gdown '1bvdgtHtKHEtSwYpYlNz2bIxilvinfC54'\n",
    "# gdown '1avTBx5JbKj9GiGk9rWsufGppo1DxqQ-l'\n",
    "# tar -xf scene_metadata_hs_r_gso_t.tar\n",
    "# tar -xf scene_multiview_metadata_hs_r_gso_t.tar\n",
    "# "
   ]
  },
  {
   "cell_type": "code",
   "execution_count": null,
   "id": "e2f9e110-5eb1-45c6-802a-f437457aa95d",
   "metadata": {},
   "outputs": [],
   "source": [
    "os.environ['OMNIDATA_PATH'] = '/scratch/data/omnidata'\n",
    "os.environ['OMNIDATA_CACHE_PATH'] = '/scratch/data/omnidata/.cache'\n",
    "\n",
    "dm = OmnidataDataModule(\n",
    "       tasks = ['point_info', 'rgb', 'depth_euclidean', 'normal', 'mask_valid'],\n",
    "      train_datasets_to_options = dict(\n",
    "            # TaskonomyDataset = dict(data_amount='tiny', data_path='/datasets/omnidata/ta/'),\n",
    "            ReplicaDataset   = dict()\n",
    "        ),\n",
    "        eval_datasets_to_options  = dict(\n",
    "            # HypersimDataset   = dict(cooccurrence_method='FRAGMENTS')\n",
    "            ReplicaDataset   = dict()\n",
    "            # GSOReplicaDataset   = dict()\n",
    "            # TaskonomyDataset  = dict(data_amount='tiny')\n",
    "        ),\n",
    "        shared_options = dict(\n",
    "            data_amount  = 'debug',\n",
    "            data_path    = os.environ['OMNIDATA_PATH'],\n",
    "            cache_dir    = os.environ['OMNIDATA_CACHE_PATH'],\n",
    "            image_size   = 512,\n",
    "            n_workers    = None,\n",
    "            multiview_sampling_method = 'CENTER_VISIBLE',\n",
    "            # force_refresh_tmp = True,\n",
    "            num_positive = 3,\n",
    "        ),\n",
    "        train_options  = dict(),\n",
    "        eval_options   = dict(),\n",
    "        dataloader_kwargs = dict(batch_size=4),\n",
    ")\n",
    "dm.setup(stage='val')\n"
   ]
  },
  {
   "cell_type": "code",
   "execution_count": null,
   "id": "7f532d9f-4eec-463d-a0e8-cd9294f9910f",
   "metadata": {},
   "outputs": [],
   "source": [
    "# Show the RGB image\n",
    "show_batch_images(batch, batch_idx=0, view_idxs=[0,1,2], keys=['rgb'])\n",
    "\n",
    "# Show all unprojected pointclouds in the same scene, and draw wireframes for the cameras\n",
    "show_batch_scene(batch, batch_idx=0, view_idxs=[0,1,2])\n"
   ]
  }
 ],
 "metadata": {
  "kernelspec": {
   "display_name": "Python 3",
   "language": "python",
   "name": "python3"
  }
 },
 "nbformat": 4,
 "nbformat_minor": 5
}
