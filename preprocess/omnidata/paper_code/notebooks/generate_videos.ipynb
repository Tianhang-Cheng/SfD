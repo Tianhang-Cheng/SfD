{
 "cells": [
  {
   "cell_type": "markdown",
   "metadata": {},
   "source": [
    "# Commands for generating output videos"
   ]
  },
  {
   "cell_type": "code",
   "execution_count": null,
   "metadata": {},
   "outputs": [],
   "source": []
  },
  {
   "cell_type": "markdown",
   "metadata": {},
   "source": [
    "Before running anything, we need to unpack the video into individual frames that can be translated with our image2image models"
   ]
  },
  {
   "cell_type": "markdown",
   "metadata": {},
   "source": [
    "### Unpack source"
   ]
  },
  {
   "cell_type": "code",
   "execution_count": null,
   "metadata": {},
   "outputs": [],
   "source": [
    "gsutil cp gs://taskonomy-shared/assets/source_final.mp4 mount/shared/assets/source_final.mp4\n",
    "ffmpeg -i mount/shared/assets/source_final.mp4 mount/shared/assets/input_frames/input%05d.png"
   ]
  },
  {
   "cell_type": "markdown",
   "metadata": {},
   "source": [
    "# Generating videos"
   ]
  },
  {
   "cell_type": "markdown",
   "metadata": {},
   "source": [
    "### Method comparison"
   ]
  },
  {
   "cell_type": "code",
   "execution_count": null,
   "metadata": {},
   "outputs": [],
   "source": [
    "SFNORMAL_METHODS=\"rgb2normal_cycle_consist rgb2normal_pix2pix rgb2normal_imagenet rgb2normal_randompercept rgb2normal_geonet rgb2normal_baseline rgb2normal_multitask rgb2normal_taskonomy rgb2normal_consist\"\n",
    "DEPTH_METHODS=\"rgb2depth_zbuffer_baseline rgb2depth_zbuffer_consist rgb2depth_zbuffer_multitask rgb2depth_zbuffer_geonet rgb2depth_zbuffer_taskonomy\"\n",
    "RESHADING_METHODS=\"rgb2reshading_consist rgb2reshading_baseline rgb2reshading_multitask rgb2reshading_taskonomy\"\n",
    "\n",
    "APPROACHES_TO_USE=$RESHADING_METHODS\n",
    "for CONFIG_NAME in $APPROACHES_TO_USE; do\n",
    "    export OUTPUT_DIR=\"mount/shared/assets/method_comparison/${CONFIG_NAME}\";\n",
    "    mkdir -p \"${OUTPUT_DIR}\"\n",
    "\n",
    "    #sudo /home/shared/miniconda3/envs/consistency/bin/\n",
    "    python make_videos.py --config_to_run=${CONFIG_NAME} --output_dir=${OUTPUT_DIR}\n",
    "   \n",
    "    /usr/bin/ffmpeg -y -framerate 30 -pattern_type glob \\\n",
    "       -i \"${OUTPUT_DIR}/*.png\" \\\n",
    "       -c:v libx264 -crf 17  -pix_fmt yuv420p \"${CONFIG_NAME}.mp4\";\n",
    "\n",
    "    sudo gsutil mv \"${CONFIG_NAME}.mp4\" gs://taskonomy-shared/assets/reduced_flicker/rgb2normal_method_comparison/;\n",
    "done\n"
   ]
  },
  {
   "cell_type": "markdown",
   "metadata": {},
   "source": [
    "## RGB -> X -> t\n",
    "\n",
    "Evaluate approaches that terminate in task t"
   ]
  },
  {
   "cell_type": "markdown",
   "metadata": {},
   "source": [
    "### RGB -> Other tasks -> Normals"
   ]
  },
  {
   "cell_type": "code",
   "execution_count": null,
   "metadata": {},
   "outputs": [],
   "source": [
    "CONSISTENCY_APPROACHES=\"consistency_rgb2principal_curvature2normal consistency_rgb2depth_zbuffer2normal consistency_rgb2reshading2normal consistency_rgb2sobel_edges2normal consistency_rgb2keypoints3d2normal consistency_rgb2edge_occlusion2normal consistency_rgb2keypoints2d2normal\"\n",
    "FINETUNE_APPROACHES=\"finetune_rgb2principal_curvature2normal finetune_rgb2depth_zbuffer2normal finetune_rgb2reshading2normal finetune_rgb2sobel_edges2normal finetune_rgb2keypoints3d2normal finetune_rgb2edge_occlusion2normal finetune_rgb2keypoints2d2normal\"\n",
    "BASELINE_APPROACHES=\"baseline_rgb2principal_curvature2normal baseline_rgb2depth_zbuffer2normal baseline_rgb2reshading2normal baseline_rgb2sobel_edges2normal baseline_rgb2keypoints3d2normal baseline_rgb2edge_occlusion2normal baseline_rgb2keypoints2d2normal\"\n",
    "\n",
    "APPROACHES_TO_USE=$BASELINE_APPROACHES\n",
    "for CONFIG_NAME in $APPROACHES_TO_USE; do\n",
    "    export OUTPUT_DIR=\"/home/sasha/scaling/mount/shared/assets/frames/${CONFIG_NAME}\";\n",
    "    mkdir -p \"${OUTPUT_DIR}\"\n",
    "\n",
    "    #sudo /home/shared/miniconda3/envs/consistency/bin/\n",
    "    python make_videos.py --config_to_run=${CONFIG_NAME} --output_dir=${OUTPUT_DIR}\n",
    "\n",
    "\n",
    "    /usr/bin/ffmpeg -y -framerate 30 -pattern_type glob \\\n",
    "        -i \"${OUTPUT_DIR}/*.png\" \\\n",
    "        -c:v libx264 -crf 17 -pix_fmt yuv420p \"${CONFIG_NAME}.mp4\";\n",
    "\n",
    "    sudo gsutil mv \"${CONFIG_NAME}.mp4\" gs://taskonomy-shared/assets/reduced_flicker/rgb2x2normal/;\n",
    "\n",
    "done"
   ]
  },
  {
   "cell_type": "markdown",
   "metadata": {},
   "source": [
    "## RGB -> t -> X\n",
    "Evaluate approaches that use task t as an intermediate step"
   ]
  },
  {
   "cell_type": "markdown",
   "metadata": {},
   "source": [
    "### RGB -> Normals -> Other tasks"
   ]
  },
  {
   "cell_type": "code",
   "execution_count": null,
   "metadata": {},
   "outputs": [],
   "source": [
    "# Def: Consistency approaches\n",
    "CONSISTENCY_APPROACHES=\"consistency_rgb2normal2principal_curvature consistency_rgb2normal2depth_zbuffer consistency_rgb2normal2reshading consistency_rgb2normal2sobel_edges consistency_rgb2normal2edge_occlusion consistency_rgb2normal2keypoints2d consistency_rgb2normal2keypoints3d\"\n",
    "\n",
    "# Def: Baseline approaches\n",
    "BASELINE_APPROACHES=\"baseline_rgb2normal2depth_zbuffer \\\n",
    "baseline_rgb2normal2reshading baseline_rgb2normal2keypoints3d \\\n",
    "baseline_rgb2normal2sobel_edges baseline_rgb2normal2edge_occlusion baseline_rgb2normal2keypoints2d\"\n",
    "\n",
    "\n",
    "APPROACHES_TO_USE=$BASELINE_APPROACHES\n",
    "for CONFIG_NAME in $APPROACHES_TO_USE; do\n",
    "    export OUTPUT_DIR=\"/home/sasha/scaling/mount/shared/assets/frames/${CONFIG_NAME}\";\n",
    "    mkdir -p \"${OUTPUT_DIR}\"\n",
    "\n",
    "    python make_videos.py --config_to_run=${CONFIG_NAME} --output_dir=${OUTPUT_DIR}\n",
    "\n",
    "\n",
    "    ffmpeg -y -framerate 30 -pattern_type glob \\\n",
    "        -i \"${OUTPUT_DIR}/*.png\" \\\n",
    "        -c:v libx264 -crf 17 -pix_fmt yuv420p \"${CONFIG_NAME}.mp4\";\n",
    "\n",
    "    gsutil mv \"${CONFIG_NAME}.mp4\" gs://taskonomy-shared/assets/reduced_flicker/rgb2normal2x/;\n",
    "\n",
    "done"
   ]
  },
  {
   "cell_type": "markdown",
   "metadata": {},
   "source": [
    "### RGB -> Depth -> Other tasks"
   ]
  },
  {
   "cell_type": "code",
   "execution_count": null,
   "metadata": {},
   "outputs": [],
   "source": [
    "# Def: Consistency approaches\n",
    "CONSISTENCY_APPROACHES=\"consistency_rgb2depth_zbuffer2principal_curvature consistency_rgb2depth_zbuffer2normal consistency_rgb2depth_zbuffer2reshading consistency_rgb2depth_zbuffer2keypoints3d consistency_rgb2depth_zbuffer2keypoints2d consistency_rgb2depth_zbuffer2sobel_edges consistency_rgb2depth_zbuffer2edge_occlusion\"\n",
    "\n",
    "# Def: Baseline approaches\n",
    "BASELINE_APPROACHES=\"baseline_rgb2depth_zbuffer2principal_curvature baseline_rgb2depth_zbuffer2normal baseline_rgb2depth_zbuffer2reshading baseline_rgb2depth_zbuffer2keypoints3d baseline_rgb2depth_zbuffer2keypoints2d baseline_rgb2depth_zbuffer2sobel_edges baseline_rgb2depth_zbuffer2edge_occlusion\"\n",
    "\n",
    "for CONFIG_NAME in $APPROACHES_TO_USE; do\n",
    "    export OUTPUT_DIR=\"/home/sasha/scaling/mount/shared/assets/frames/${CONFIG_NAME}\";\n",
    "    mkdir -p \"${OUTPUT_DIR}\"\n",
    "\n",
    "    python make_videos.py --config_to_run=${CONFIG_NAME} --output_dir=${OUTPUT_DIR} --batch-size 64;\n",
    "\n",
    "    /usr/bin/ffmpeg -y -framerate 30 -pattern_type glob \\\n",
    "        -i \"${OUTPUT_DIR}/*.png\" \\\n",
    "        -c:v libx264 -crf 17 -pix_fmt yuv420p \"${CONFIG_NAME}.mp4\";\n",
    "\n",
    "    sudo gsutil mv \"${CONFIG_NAME}.mp4\" gs://taskonomy-shared/assets/reduced_flicker/rgb2depth_zbuffer2x/;\n",
    "done\n"
   ]
  },
  {
   "cell_type": "markdown",
   "metadata": {},
   "source": [
    "### RGB -> Reshading -> X"
   ]
  },
  {
   "cell_type": "code",
   "execution_count": null,
   "metadata": {},
   "outputs": [],
   "source": [
    "# Def: Consistency approaches\n",
    "CONSISTENCY_APPROACHES=\"consistency_rgb2reshading2principal_curvature consistency_rgb2reshading2normal consistency_rgb2reshading2depth_zbuffer consistency_rgb2reshading2keypoints3d consistency_rgb2reshading2keypoints2d consistency_rgb2reshading2edge_occlusion consistency_rgb2reshading2sobel_edges\"\n",
    "\n",
    "# Def: Baseline approaches\n",
    "BASELINE_APPROACHES=\"baseline_rgb2reshading2depth_zbuffer baseline_rgb2reshading2sobel_edges baseline_rgb2reshading2normal baseline_rgb2reshading2keypoints3d baseline_rgb2reshading2keypoints2d baseline_rgb2reshading2edge_occlusion baseline_rgb2reshading2principal_curvature baseline_rgb2reshading2normal\"\n",
    "\n",
    "APPROACHES_TO_USE=$BASELINE_APPROACHES\n",
    "for CONFIG_NAME in $APPROACHES_TO_USE; do\n",
    "    export OUTPUT_DIR=\"/home/sasha/scaling/mount/shared/assets/frames/${CONFIG_NAME}\";\n",
    "    mkdir -p \"${OUTPUT_DIR}\"\n",
    "\n",
    "    python make_videos.py --config_to_run=${CONFIG_NAME} --output_dir=${OUTPUT_DIR} ;\n",
    "\n",
    "    /usr/bin/ffmpeg -y -framerate 30 -pattern_type glob \\\n",
    "        -i \"${OUTPUT_DIR}/*.png\" \\\n",
    "        -c:v libx264 -crf 17 -pix_fmt yuv420p \"${CONFIG_NAME}.mp4\";\n",
    "\n",
    "    sudo gsutil mv \"${CONFIG_NAME}.mp4\" gs://taskonomy-shared/assets/reduced_flicker/rgb2reshading2x/;\n",
    "\n",
    "done\n"
   ]
  },
  {
   "cell_type": "markdown",
   "metadata": {},
   "source": [
    "# Make Energy video"
   ]
  },
  {
   "cell_type": "markdown",
   "metadata": {},
   "source": [
    "#### 1) Generate 'corrupted' input frames using the notebook: `generate_blurry.ipynb`"
   ]
  },
  {
   "cell_type": "markdown",
   "metadata": {},
   "source": [
    "#### 2) Compute energies using `scripts/energy_calc.py`\n",
    "For specific commands, see the doc: https://paper.dropbox.com/doc/Consistency-Useful-Commands--AvYbdKF14KgaCrFrJpuIYe1sAg-PL794TBv0jm7qvraYqoQK"
   ]
  },
  {
   "cell_type": "markdown",
   "metadata": {},
   "source": [
    "#### 3) Generate prediction videos using the following script (copied into bash terminal "
   ]
  },
  {
   "cell_type": "code",
   "execution_count": null,
   "metadata": {},
   "outputs": [],
   "source": [
    "# Copy the following into terminal in order to generate rgb2x2normal videos for all corruptions in the dir:\n",
    "#  mount/shared/assets/*/\n",
    "consistency_rgb2reshading2normal consistency_rgb2depth_zbuffer2normal consistency_rgb2keypoints3d2normal consistency_rgb2keypoints2d2normal consistency_rgb2principal_curvature2normal consistency_rgb2edge_occlusion2normal  consistency_rgb2sobel_edges2normal\n",
    "for CONFIG_NAME in consistency_rgb2normal; do\n",
    "    for frame_dir in $(ls -d mount/shared/assets/*/); do\n",
    "        export frame_dir_name=\"$(echo $frame_dir | rev | cut -f2 -d/ | rev)\"\n",
    "\n",
    "        if [[ ${frame_dir_name} == \"input_frames\" ]];\n",
    "        then\n",
    "            continue\n",
    "        elif [[ ${frame_dir_name} == *blur*  ]];\n",
    "        then\n",
    "            echo do nothing;\n",
    "        fi\n",
    "        echo $frame_dir_name\n",
    "\n",
    "        export OUTPUT_DIR=\"/home/sasha/scaling/mount/shared/assets/frames/${CONFIG_NAME}_${frame_dir_name}\";\n",
    "        mkdir -p \"${OUTPUT_DIR}\"\n",
    "\n",
    "#         sudo /home/shared/miniconda3/envs/consistency/bin/\n",
    "        python make_videos.py --config_to_run=${CONFIG_NAME} --output_dir=${OUTPUT_DIR} --frame_dir=${frame_dir}\n",
    "\n",
    "\n",
    "        /usr/bin/ffmpeg -y -framerate 30 -pattern_type glob \\\n",
    "            -i \"${OUTPUT_DIR}/*.png\" \\\n",
    "            -c:v libx264 -crf 17 -pix_fmt yuv420p \"${CONFIG_NAME}.mp4\";\n",
    "\n",
    "#         sudo gsutil mv \"${CONFIG_NAME}.mp4\" gs://taskonomy-shared/assets/reduced_flicker/rgb2x2normal/;\n",
    "        mv \"${CONFIG_NAME}.mp4\" \"mount/shared/energy_vid_predictions/${frame_dir_name}_${CONFIG_NAME}.mp4\";\n",
    "    done\n",
    "done"
   ]
  },
  {
   "cell_type": "markdown",
   "metadata": {},
   "source": [
    "#### 4) Choose which corruptions to show in the energy video and render frames: video section in the notebook `Energy_analysis.ipynb`"
   ]
  },
  {
   "cell_type": "markdown",
   "metadata": {},
   "source": [
    "#### 5) Now that you've selected the corruptions, splice in the predictions for the corrupted frames by using the notebook `energy_video.ipynb`"
   ]
  },
  {
   "cell_type": "markdown",
   "metadata": {},
   "source": [
    "# Crop videos for website"
   ]
  },
  {
   "cell_type": "code",
   "execution_count": null,
   "metadata": {},
   "outputs": [],
   "source": [
    "/usr/bin/ffmpeg -y -i ${vid_name}.mp4 -filter:v \"crop=288:288:16:16\" \\\n",
    "     -c:v libx264 -pix_fmt yuv420p  -crf 17 ${vid_name}_cropped.mp4"
   ]
  }
 ],
 "metadata": {
  "kernelspec": {
   "display_name": "Python 3",
   "language": "python",
   "name": "python3"
  },
  "language_info": {
   "codemirror_mode": {
    "name": "ipython",
    "version": 3
   },
   "file_extension": ".py",
   "mimetype": "text/x-python",
   "name": "python",
   "nbconvert_exporter": "python",
   "pygments_lexer": "ipython3",
   "version": "3.8.5"
  }
 },
 "nbformat": 4,
 "nbformat_minor": 2
}
