{
 "cells": [
  {
   "cell_type": "markdown",
   "metadata": {
    "id": "ESHGw_Kudkf4"
   },
   "source": [
    "Created by Florent Poux. Licence CC\n",
    "\n",
    "*   To reuse in your project, please cite the article.\n",
    "*   Have fun with this notebook that you can very simply run (ctrl+Enter) !\n",
    "*   The first time thought, it will ask you to get a key for it to be able to acces your Google drive folders if you want to work all remotely.\n",
    "*   Simply accept, and then change the \"10-MEDIUM/DATA/Point Cloud Sample/\" by the folder path containing your data\n",
    "\n",
    "Enjoy!"
   ]
  },
  {
   "cell_type": "markdown",
   "metadata": {
    "id": "TLxlwD5AdI57"
   },
   "source": [
    "# Step 1: Setting up the environment"
   ]
  },
  {
   "cell_type": "code",
   "execution_count": 2,
   "metadata": {
    "colab": {
     "base_uri": "https://localhost:8080/"
    },
    "id": "xIL9q3EeOICm",
    "outputId": "3647ea4a-848c-4b12-b6f9-4a45495aeece"
   },
   "outputs": [
    {
     "name": "stdout",
     "output_type": "stream",
     "text": [
      "\u001b[33mWARNING: The directory '/home/rbachman/.cache/pip' or its parent directory is not owned or is not writable by the current user. The cache has been disabled. Check the permissions and owner of that directory. If executing pip with sudo, you may want sudo's -H flag.\u001b[0m\n",
      "Collecting open3d\n",
      "  Downloading open3d-0.12.0-cp38-cp38-manylinux2014_x86_64.whl (188.5 MB)\n",
      "\u001b[K     |████████████████████████████████| 188.5 MB 88.3 MB/s eta 0:00:01   |██████████▊                     | 63.3 MB 5.0 MB/s eta 0:00:25     |███████████████████████▌        | 138.2 MB 86.8 MB/s eta 0:00:01████        | 141.6 MB 86.8 MB/s eta 0:00:01\n",
      "\u001b[?25hRequirement already satisfied: numpy in /home/rbachman/miniconda/envs/py38/lib/python3.8/site-packages (from open3d) (1.19.1)\n",
      "Requirement already satisfied: tqdm in /home/rbachman/miniconda/envs/py38/lib/python3.8/site-packages (from open3d) (4.48.2)\n",
      "Requirement already satisfied: pandas in /home/rbachman/miniconda/envs/py38/lib/python3.8/site-packages (from open3d) (1.1.1)\n",
      "Requirement already satisfied: notebook in /home/rbachman/miniconda/envs/py38/lib/python3.8/site-packages (from open3d) (6.2.0)\n",
      "Requirement already satisfied: pyyaml in /home/rbachman/miniconda/envs/py38/lib/python3.8/site-packages (from open3d) (5.3.1)\n",
      "Requirement already satisfied: matplotlib in /home/rbachman/miniconda/envs/py38/lib/python3.8/site-packages (from open3d) (3.3.2)\n",
      "Collecting addict\n",
      "  Downloading addict-2.4.0-py3-none-any.whl (3.8 kB)\n",
      "Collecting ipywidgets\n",
      "  Downloading ipywidgets-7.6.3-py2.py3-none-any.whl (121 kB)\n",
      "\u001b[K     |████████████████████████████████| 121 kB 98.9 MB/s eta 0:00:01\n",
      "\u001b[?25hRequirement already satisfied: ipykernel>=4.5.1 in /home/rbachman/miniconda/envs/py38/lib/python3.8/site-packages (from ipywidgets->open3d) (5.4.2)\n",
      "Requirement already satisfied: traitlets>=4.3.1 in /home/rbachman/miniconda/envs/py38/lib/python3.8/site-packages (from ipywidgets->open3d) (5.0.5)\n",
      "Requirement already satisfied: ipython>=4.0.0 in /home/rbachman/miniconda/envs/py38/lib/python3.8/site-packages (from ipywidgets->open3d) (7.20.0)\n",
      "Requirement already satisfied: nbformat>=4.2.0 in /home/rbachman/miniconda/envs/py38/lib/python3.8/site-packages (from ipywidgets->open3d) (5.1.2)\n",
      "Requirement already satisfied: jupyter-client in /home/rbachman/miniconda/envs/py38/lib/python3.8/site-packages (from ipykernel>=4.5.1->ipywidgets->open3d) (6.1.11)\n",
      "Requirement already satisfied: tornado>=4.2 in /home/rbachman/miniconda/envs/py38/lib/python3.8/site-packages (from ipykernel>=4.5.1->ipywidgets->open3d) (6.1)\n",
      "Requirement already satisfied: backcall in /home/rbachman/miniconda/envs/py38/lib/python3.8/site-packages (from ipython>=4.0.0->ipywidgets->open3d) (0.2.0)\n",
      "Requirement already satisfied: setuptools>=18.5 in /home/rbachman/miniconda/envs/py38/lib/python3.8/site-packages (from ipython>=4.0.0->ipywidgets->open3d) (52.0.0.post20210125)\n",
      "Requirement already satisfied: pygments in /home/rbachman/miniconda/envs/py38/lib/python3.8/site-packages (from ipython>=4.0.0->ipywidgets->open3d) (2.7.4)\n",
      "Requirement already satisfied: decorator in /home/rbachman/miniconda/envs/py38/lib/python3.8/site-packages (from ipython>=4.0.0->ipywidgets->open3d) (4.4.2)\n",
      "Requirement already satisfied: pickleshare in /home/rbachman/miniconda/envs/py38/lib/python3.8/site-packages (from ipython>=4.0.0->ipywidgets->open3d) (0.7.5)\n",
      "Requirement already satisfied: prompt-toolkit!=3.0.0,!=3.0.1,<3.1.0,>=2.0.0 in /home/rbachman/miniconda/envs/py38/lib/python3.8/site-packages (from ipython>=4.0.0->ipywidgets->open3d) (3.0.14)\n",
      "Requirement already satisfied: pexpect>4.3 in /home/rbachman/miniconda/envs/py38/lib/python3.8/site-packages (from ipython>=4.0.0->ipywidgets->open3d) (4.8.0)\n",
      "Requirement already satisfied: jedi>=0.16 in /home/rbachman/miniconda/envs/py38/lib/python3.8/site-packages (from ipython>=4.0.0->ipywidgets->open3d) (0.18.0)\n",
      "Requirement already satisfied: parso<0.9.0,>=0.8.0 in /home/rbachman/miniconda/envs/py38/lib/python3.8/site-packages (from jedi>=0.16->ipython>=4.0.0->ipywidgets->open3d) (0.8.1)\n",
      "Collecting jupyterlab-widgets>=1.0.0\n",
      "  Downloading jupyterlab_widgets-1.0.0-py3-none-any.whl (243 kB)\n",
      "\u001b[K     |████████████████████████████████| 243 kB 89.8 MB/s eta 0:00:01\n",
      "\u001b[?25hRequirement already satisfied: jsonschema!=2.5.0,>=2.4 in /home/rbachman/miniconda/envs/py38/lib/python3.8/site-packages (from nbformat>=4.2.0->ipywidgets->open3d) (3.2.0)\n",
      "Requirement already satisfied: ipython-genutils in /home/rbachman/miniconda/envs/py38/lib/python3.8/site-packages (from nbformat>=4.2.0->ipywidgets->open3d) (0.2.0)\n",
      "Requirement already satisfied: jupyter-core in /home/rbachman/miniconda/envs/py38/lib/python3.8/site-packages (from nbformat>=4.2.0->ipywidgets->open3d) (4.7.1)\n",
      "Requirement already satisfied: attrs>=17.4.0 in /home/rbachman/miniconda/envs/py38/lib/python3.8/site-packages (from jsonschema!=2.5.0,>=2.4->nbformat>=4.2.0->ipywidgets->open3d) (20.3.0)\n",
      "Requirement already satisfied: pyrsistent>=0.14.0 in /home/rbachman/miniconda/envs/py38/lib/python3.8/site-packages (from jsonschema!=2.5.0,>=2.4->nbformat>=4.2.0->ipywidgets->open3d) (0.17.3)\n",
      "Requirement already satisfied: six>=1.11.0 in /home/rbachman/miniconda/envs/py38/lib/python3.8/site-packages (from jsonschema!=2.5.0,>=2.4->nbformat>=4.2.0->ipywidgets->open3d) (1.15.0)\n",
      "Requirement already satisfied: ptyprocess>=0.5 in /home/rbachman/miniconda/envs/py38/lib/python3.8/site-packages (from pexpect>4.3->ipython>=4.0.0->ipywidgets->open3d) (0.7.0)\n",
      "Requirement already satisfied: wcwidth in /home/rbachman/miniconda/envs/py38/lib/python3.8/site-packages (from prompt-toolkit!=3.0.0,!=3.0.1,<3.1.0,>=2.0.0->ipython>=4.0.0->ipywidgets->open3d) (0.2.5)\n",
      "Collecting widgetsnbextension\n",
      "  Downloading widgetsnbextension-3.5.1-py2.py3-none-any.whl (2.2 MB)\n",
      "\u001b[K     |████████████████████████████████| 2.2 MB 82.0 MB/s eta 0:00:01\n",
      "\u001b[?25hRequirement already satisfied: argon2-cffi in /home/rbachman/miniconda/envs/py38/lib/python3.8/site-packages (from notebook->open3d) (20.1.0)\n",
      "Requirement already satisfied: jinja2 in /home/rbachman/miniconda/envs/py38/lib/python3.8/site-packages (from notebook->open3d) (2.11.3)\n",
      "Requirement already satisfied: prometheus-client in /home/rbachman/miniconda/envs/py38/lib/python3.8/site-packages (from notebook->open3d) (0.9.0)\n",
      "Requirement already satisfied: pyzmq>=17 in /home/rbachman/miniconda/envs/py38/lib/python3.8/site-packages (from notebook->open3d) (22.0.1)\n",
      "Requirement already satisfied: Send2Trash>=1.5.0 in /home/rbachman/miniconda/envs/py38/lib/python3.8/site-packages (from notebook->open3d) (1.5.0)\n",
      "Requirement already satisfied: terminado>=0.8.3 in /home/rbachman/miniconda/envs/py38/lib/python3.8/site-packages (from notebook->open3d) (0.9.2)\n",
      "Requirement already satisfied: nbconvert in /home/rbachman/miniconda/envs/py38/lib/python3.8/site-packages (from notebook->open3d) (6.0.7)\n",
      "Requirement already satisfied: python-dateutil>=2.1 in /home/rbachman/miniconda/envs/py38/lib/python3.8/site-packages (from jupyter-client->ipykernel>=4.5.1->ipywidgets->open3d) (2.8.1)\n",
      "Requirement already satisfied: cffi>=1.0.0 in /home/rbachman/miniconda/envs/py38/lib/python3.8/site-packages (from argon2-cffi->notebook->open3d) (1.14.4)\n",
      "Requirement already satisfied: pycparser in /home/rbachman/miniconda/envs/py38/lib/python3.8/site-packages (from cffi>=1.0.0->argon2-cffi->notebook->open3d) (2.20)\n",
      "Requirement already satisfied: MarkupSafe>=0.23 in /home/rbachman/miniconda/envs/py38/lib/python3.8/site-packages (from jinja2->notebook->open3d) (1.1.1)\n",
      "Requirement already satisfied: certifi>=2020.06.20 in /home/rbachman/miniconda/envs/py38/lib/python3.8/site-packages (from matplotlib->open3d) (2020.12.5)\n",
      "Requirement already satisfied: pillow>=6.2.0 in /home/rbachman/miniconda/envs/py38/lib/python3.8/site-packages (from matplotlib->open3d) (7.2.0)\n",
      "Requirement already satisfied: cycler>=0.10 in /home/rbachman/miniconda/envs/py38/lib/python3.8/site-packages (from matplotlib->open3d) (0.10.0)\n",
      "Requirement already satisfied: kiwisolver>=1.0.1 in /home/rbachman/miniconda/envs/py38/lib/python3.8/site-packages (from matplotlib->open3d) (1.3.1)\n",
      "Requirement already satisfied: pyparsing!=2.0.4,!=2.1.2,!=2.1.6,>=2.0.3 in /home/rbachman/miniconda/envs/py38/lib/python3.8/site-packages (from matplotlib->open3d) (2.4.7)\n"
     ]
    },
    {
     "name": "stdout",
     "output_type": "stream",
     "text": [
      "Requirement already satisfied: entrypoints>=0.2.2 in /home/rbachman/miniconda/envs/py38/lib/python3.8/site-packages (from nbconvert->notebook->open3d) (0.3)\n",
      "Requirement already satisfied: jupyterlab-pygments in /home/rbachman/miniconda/envs/py38/lib/python3.8/site-packages (from nbconvert->notebook->open3d) (0.1.2)\n",
      "Requirement already satisfied: mistune<2,>=0.8.1 in /home/rbachman/miniconda/envs/py38/lib/python3.8/site-packages (from nbconvert->notebook->open3d) (0.8.4)\n",
      "Requirement already satisfied: defusedxml in /home/rbachman/miniconda/envs/py38/lib/python3.8/site-packages (from nbconvert->notebook->open3d) (0.6.0)\n",
      "Requirement already satisfied: testpath in /home/rbachman/miniconda/envs/py38/lib/python3.8/site-packages (from nbconvert->notebook->open3d) (0.4.4)\n",
      "Requirement already satisfied: bleach in /home/rbachman/miniconda/envs/py38/lib/python3.8/site-packages (from nbconvert->notebook->open3d) (3.3.0)\n",
      "Requirement already satisfied: nbclient<0.6.0,>=0.5.0 in /home/rbachman/miniconda/envs/py38/lib/python3.8/site-packages (from nbconvert->notebook->open3d) (0.5.1)\n",
      "Requirement already satisfied: pandocfilters>=1.4.1 in /home/rbachman/miniconda/envs/py38/lib/python3.8/site-packages (from nbconvert->notebook->open3d) (1.4.2)\n",
      "Requirement already satisfied: async-generator in /home/rbachman/miniconda/envs/py38/lib/python3.8/site-packages (from nbclient<0.6.0,>=0.5.0->nbconvert->notebook->open3d) (1.10)\n",
      "Requirement already satisfied: nest-asyncio in /home/rbachman/miniconda/envs/py38/lib/python3.8/site-packages (from nbclient<0.6.0,>=0.5.0->nbconvert->notebook->open3d) (1.4.3)\n",
      "Requirement already satisfied: packaging in /home/rbachman/miniconda/envs/py38/lib/python3.8/site-packages (from bleach->nbconvert->notebook->open3d) (20.9)\n",
      "Requirement already satisfied: webencodings in /home/rbachman/miniconda/envs/py38/lib/python3.8/site-packages (from bleach->nbconvert->notebook->open3d) (0.5.1)\n",
      "Requirement already satisfied: pytz>=2017.2 in /home/rbachman/miniconda/envs/py38/lib/python3.8/site-packages (from pandas->open3d) (2021.1)\n",
      "Collecting plyfile\n",
      "  Downloading plyfile-0.7.3-py3-none-any.whl (39 kB)\n",
      "Collecting sklearn\n",
      "  Downloading sklearn-0.0.tar.gz (1.1 kB)\n",
      "Requirement already satisfied: scikit-learn in /home/rbachman/miniconda/envs/py38/lib/python3.8/site-packages (from sklearn->open3d) (0.24.1)\n",
      "Requirement already satisfied: threadpoolctl>=2.0.0 in /home/rbachman/miniconda/envs/py38/lib/python3.8/site-packages (from scikit-learn->sklearn->open3d) (2.1.0)\n",
      "Requirement already satisfied: scipy>=0.19.1 in /home/rbachman/miniconda/envs/py38/lib/python3.8/site-packages (from scikit-learn->sklearn->open3d) (1.6.0)\n",
      "Requirement already satisfied: joblib>=0.11 in /home/rbachman/miniconda/envs/py38/lib/python3.8/site-packages (from scikit-learn->sklearn->open3d) (1.0.0)\n",
      "Building wheels for collected packages: sklearn\n",
      "  Building wheel for sklearn (setup.py) ... \u001b[?25ldone\n",
      "\u001b[?25h  Created wheel for sklearn: filename=sklearn-0.0-py2.py3-none-any.whl size=1316 sha256=45767a06f3dc813428254449d7ffb138f47a4c7c6aa5742c542a2d00ba16b57a\n",
      "  Stored in directory: /tmp/pip-ephem-wheel-cache-hfi4f40x/wheels/22/0b/40/fd3f795caaa1fb4c6cb738bc1f56100be1e57da95849bfc897\n",
      "Successfully built sklearn\n",
      "Installing collected packages: widgetsnbextension, jupyterlab-widgets, sklearn, plyfile, ipywidgets, addict, open3d\n",
      "Successfully installed addict-2.4.0 ipywidgets-7.6.3 jupyterlab-widgets-1.0.0 open3d-0.12.0 plyfile-0.7.3 sklearn-0.0 widgetsnbextension-3.5.1\n"
     ]
    }
   ],
   "source": [
    "#http://www.open3d.org/docs/release/index.html\n",
    "!pip install open3d"
   ]
  },
  {
   "cell_type": "markdown",
   "metadata": {
    "id": "wDQayYrmfMKi"
   },
   "source": [
    "# Step 2: Load and prepare the data"
   ]
  },
  {
   "cell_type": "code",
   "execution_count": 1,
   "metadata": {
    "colab": {
     "base_uri": "https://localhost:8080/"
    },
    "id": "Uzrw-UieNDPt",
    "outputId": "556257e6-ce80-42db-8441-96fe23859487"
   },
   "outputs": [],
   "source": [
    "#libraries used\n",
    "import numpy as np\n",
    "import open3d as o3d"
   ]
  },
  {
   "cell_type": "code",
   "execution_count": 7,
   "metadata": {
    "id": "uCPkhRyEe9UM"
   },
   "outputs": [],
   "source": [
    "#create paths and load data\n",
    "scene = 'Barn'\n",
    "model = 'pcd2'\n",
    "# input_path=f\"/scratch/ainaz/Tanks_and_Temples/{scene}/\"\n",
    "# output_path=f\"/scratch/ainaz/Tanks_and_Temples/{scene}/\"\n",
    "\n",
    "# input_path=f\"/scratch/ainaz/ETH3D/meadow/scan_clean/\"\n",
    "# output_path=f\"/scratch/ainaz/ETH3D/meadow/scan_clean/\"\n",
    "\n",
    "input_path=f\"/scratch/ainaz/RobotCarDataset/\"\n",
    "output_path=f\"/scratch/ainaz/RobotCarDataset/\"\n",
    "\n",
    "dataname=f\"{model}.ply\"\n",
    "# point_cloud= np.loadtxt(input_path+dataname,skiprows=1)\n",
    "pcd = o3d.io.read_point_cloud(input_path+dataname)"
   ]
  },
  {
   "cell_type": "code",
   "execution_count": 8,
   "metadata": {
    "id": "Q-6ISxhQfC0s"
   },
   "outputs": [],
   "source": [
    "#Format to open3d usable objects\n",
    "# pcd = o3d.geometry.PointCloud()\n",
    "# pcd.points = o3d.utility.Vector3dVector(point_cloud[:,:3])\n",
    "# pcd.colors = o3d.utility.Vector3dVector(point_cloud[:,3:6]/255)\n",
    "# pcd.normals = o3d.utility.Vector3dVector(point_cloud[:,6:9])"
   ]
  },
  {
   "cell_type": "code",
   "execution_count": 9,
   "metadata": {
    "colab": {
     "base_uri": "https://localhost:8080/"
    },
    "id": "sjn3qLIbneUl",
    "outputId": "17dab951-a8cb-4900-aff7-910cc6a5c28a"
   },
   "outputs": [
    {
     "name": "stdout",
     "output_type": "stream",
     "text": [
      "PointCloud with 486552 points.\n"
     ]
    }
   ],
   "source": [
    "print(pcd)"
   ]
  },
  {
   "cell_type": "code",
   "execution_count": 10,
   "metadata": {},
   "outputs": [],
   "source": [
    "pcd.estimate_normals()"
   ]
  },
  {
   "cell_type": "code",
   "execution_count": 60,
   "metadata": {},
   "outputs": [
    {
     "data": {
      "text/plain": [
       "True"
      ]
     },
     "execution_count": 60,
     "metadata": {},
     "output_type": "execute_result"
    }
   ],
   "source": [
    "o3d.io.write_point_cloud(output_path+'pcd2_n.ply', pcd)"
   ]
  },
  {
   "cell_type": "markdown",
   "metadata": {
    "id": "8_lk8f2Irlfl"
   },
   "source": [
    "# Step 3: Choose a meshing strategy"
   ]
  },
  {
   "cell_type": "markdown",
   "metadata": {
    "id": "keheHCh_fo66"
   },
   "source": [
    "Now we are ready to start the surface reconstruction process by meshing the pcd point cloud. I will give my favorite way to efficiently obtain results, but before we dive in, some condensed details ar necessary to grasp the underlying processes. I will limit myself to two meshing strategies. See article"
   ]
  },
  {
   "cell_type": "markdown",
   "metadata": {
    "id": "rypFhEUjrryA"
   },
   "source": [
    "# Step 4: Process the data\n",
    "## Strategy 1: BPA"
   ]
  },
  {
   "cell_type": "code",
   "execution_count": 11,
   "metadata": {
    "id": "_k1OmNMcOnxI"
   },
   "outputs": [],
   "source": [
    "#radius determination\n",
    "distances = pcd.compute_nearest_neighbor_distance()\n",
    "avg_dist = np.mean(distances)\n",
    "radius = 3 * avg_dist"
   ]
  },
  {
   "cell_type": "code",
   "execution_count": null,
   "metadata": {
    "id": "93CP_vJ3F-aU"
   },
   "outputs": [],
   "source": [
    "#computing the mehs\n",
    "bpa_mesh = o3d.geometry.TriangleMesh.create_from_point_cloud_ball_pivoting(pcd,o3d.utility.DoubleVector([radius, radius * 2]))\n"
   ]
  },
  {
   "cell_type": "code",
   "execution_count": null,
   "metadata": {},
   "outputs": [],
   "source": [
    "o3d.io.write_triangle_mesh(output_path + f\"mesh2_bpa3.ply\", bpa_mesh)"
   ]
  },
  {
   "cell_type": "code",
   "execution_count": null,
   "metadata": {
    "id": "lCv0aXETf-b-"
   },
   "outputs": [],
   "source": [
    "#decimating the mesh\n",
    "dec_mesh = mesh.simplify_quadric_decimation(100000)"
   ]
  },
  {
   "cell_type": "markdown",
   "metadata": {
    "id": "Tgv_73IEgCgH"
   },
   "source": [
    "*Optional ---*"
   ]
  },
  {
   "cell_type": "code",
   "execution_count": null,
   "metadata": {
    "id": "j_5H7AnegBNa"
   },
   "outputs": [],
   "source": [
    "dec_mesh.remove_degenerate_triangles()\n",
    "dec_mesh.remove_duplicated_triangles()\n",
    "dec_mesh.remove_duplicated_vertices()\n",
    "dec_mesh.remove_non_manifold_edges()"
   ]
  },
  {
   "cell_type": "markdown",
   "metadata": {
    "id": "DLRvO9bSgHgB"
   },
   "source": [
    "## Strategy 2: Poisson' reconstruction"
   ]
  },
  {
   "cell_type": "code",
   "execution_count": 47,
   "metadata": {},
   "outputs": [
    {
     "name": "stdout",
     "output_type": "stream",
     "text": [
      "run Poisson surface reconstruction\n",
      "[Open3D DEBUG] Input Points / Samples: 18839791 / 90286\n",
      "[Open3D DEBUG] #   Got kernel density: 0.0400820 (s), 7244.61 (MB) / 10204.5 (MB) / 10987 (MB)\n",
      "[Open3D DEBUG] #     Got normal field: 0.21438 (s), 7244.62 (MB) / 10204.5 (MB) / 10987 (MB)\n",
      "[Open3D DEBUG] Point weight / Estimated Area: 3.379018e-08 / 6.365999e-01\n",
      "[Open3D DEBUG] #       Finalized tree: 0.874006 (s), 7244.62 (MB) / 10204.5 (MB) / 10987 (MB)\n",
      "[Open3D DEBUG] #  Set FEM constraints: 0.620128 (s), 7244.62 (MB) / 10204.5 (MB) / 10987 (MB)\n",
      "[Open3D DEBUG] #Set point constraints: 0.119959 (s), 7244.62 (MB) / 10204.5 (MB) / 10987 (MB)\n",
      "[Open3D DEBUG] Leaf Nodes / Active Nodes / Ghost Nodes: 945351 / 1079824 / 577\n",
      "[Open3D DEBUG] Memory Usage: 7244.621 MB\n",
      "[Open3D DEBUG] # Linear system solved: 6.29285 (s), 7244.62 (MB) / 10204.5 (MB) / 10987 (MB)\n",
      "[Open3D DEBUG] Got average: 0.049871 (s), 7244.62 (MB) / 10204.5 (MB) / 10987 (MB)\n",
      "[Open3D DEBUG] Iso-Value: 4.999402e-01 = 9.418770e+06 / 1.883979e+07\n",
      "[Open3D DEBUG] #          Total Solve:      18.9 (s),   10204.5 (MB)\n",
      "TriangleMesh with 227267 points and 454051 triangles.\n"
     ]
    }
   ],
   "source": [
    "print('run Poisson surface reconstruction')\n",
    "with o3d.utility.VerbosityContextManager(\n",
    "        o3d.utility.VerbosityLevel.Debug) as cm:\n",
    "    poisson_mesh, densities = o3d.geometry.TriangleMesh.create_from_point_cloud_poisson(\n",
    "        pcd, depth=9, linear_fit=False)\n",
    "print(poisson_mesh)"
   ]
  },
  {
   "cell_type": "code",
   "execution_count": 48,
   "metadata": {
    "colab": {
     "base_uri": "https://localhost:8080/",
     "height": 190
    },
    "id": "Bb66rd6nFfL-",
    "outputId": "a1a1c0e7-3a51-417e-916d-319a24585dd0"
   },
   "outputs": [],
   "source": [
    "#computing the mesh\n",
    "# poisson_mesh = o3d.geometry.TriangleMesh.create_from_point_cloud_poisson(pcd, depth=8, width=0, scale=1.1, linear_fit=False)[0]"
   ]
  },
  {
   "cell_type": "code",
   "execution_count": 49,
   "metadata": {
    "id": "V-7o1CJUuUJs"
   },
   "outputs": [],
   "source": [
    "#cropping\n",
    "bbox = pcd.get_axis_aligned_bounding_box()\n",
    "p_mesh_crop = poisson_mesh.crop(bbox)"
   ]
  },
  {
   "cell_type": "markdown",
   "metadata": {
    "id": "uGd6ZlZkgYa1"
   },
   "source": [
    "# Step 5: Export and visualize"
   ]
  },
  {
   "cell_type": "code",
   "execution_count": 50,
   "metadata": {
    "id": "rWMbbiWRumIn"
   },
   "outputs": [
    {
     "name": "stdout",
     "output_type": "stream",
     "text": [
      "\u001b[1;33m[Open3D WARNING] Write Ply clamped color value to valid range\u001b[0;m\n"
     ]
    },
    {
     "data": {
      "text/plain": [
       "True"
      ]
     },
     "execution_count": 50,
     "metadata": {},
     "output_type": "execute_result"
    }
   ],
   "source": [
    "#export\n",
    "# o3d.io.write_triangle_mesh(output_path+\"bpa_mesh.ply\", dec_mesh)\n",
    "o3d.io.write_triangle_mesh(output_path + f\"{model}_mesh.ply\", p_mesh_crop)"
   ]
  },
  {
   "cell_type": "code",
   "execution_count": null,
   "metadata": {
    "id": "aNCA9dH2Fw5j"
   },
   "outputs": [],
   "source": [
    "#function creation\n",
    "def lod_mesh_export(mesh, lods, extension, path):\n",
    "    mesh_lods={}\n",
    "    for i in lods:\n",
    "        mesh_lod = mesh.simplify_quadric_decimation(i)\n",
    "        o3d.io.write_triangle_mesh(path+\"lod_\"+str(i)+extension, mesh_lod)\n",
    "        mesh_lods[i]=mesh_lod\n",
    "    print(\"generation of \"+str(i)+\" LoD successful\")\n",
    "    return mesh_lods"
   ]
  },
  {
   "cell_type": "code",
   "execution_count": null,
   "metadata": {
    "id": "sio4Dn4qjlmP"
   },
   "outputs": [],
   "source": [
    "#execution of function\n",
    "my_lods = lod_mesh_export(bpa_mesh, [100000,50000,10000,1000,100], \".ply\", output_path)"
   ]
  },
  {
   "cell_type": "code",
   "execution_count": null,
   "metadata": {
    "id": "vBkKEBmPgmar"
   },
   "outputs": [],
   "source": [
    "#execution of function\n",
    "my_lods2 = lod_mesh_export(bpa_mesh, [8000,800,300], \".ply\", output_path)"
   ]
  },
  {
   "cell_type": "code",
   "execution_count": 17,
   "metadata": {},
   "outputs": [],
   "source": []
  }
 ],
 "metadata": {
  "colab": {
   "collapsed_sections": [],
   "name": "Copy of 5-Step-Guide-to-generate-3D-meshes-from-point-clouds-with-Python.ipynb",
   "provenance": [],
   "toc_visible": true
  },
  "kernelspec": {
   "display_name": "Python 3",
   "language": "python",
   "name": "python3"
  },
  "language_info": {
   "codemirror_mode": {
    "name": "ipython",
    "version": 3
   },
   "file_extension": ".py",
   "mimetype": "text/x-python",
   "name": "python",
   "nbconvert_exporter": "python",
   "pygments_lexer": "ipython3",
   "version": "3.8.5"
  }
 },
 "nbformat": 4,
 "nbformat_minor": 1
}
